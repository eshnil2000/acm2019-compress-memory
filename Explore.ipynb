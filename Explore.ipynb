{
 "cells": [
  {
   "cell_type": "code",
   "execution_count": 1,
   "metadata": {},
   "outputs": [],
   "source": [
    "\n",
    "import numpy\n",
    "import pandas\n",
    "from matplotlib import pyplot as plt\n"
   ]
  },
  {
   "cell_type": "code",
   "execution_count": 18,
   "metadata": {},
   "outputs": [],
   "source": [
    "numpy.set_printoptions(formatter={'int':hex})"
   ]
  },
  {
   "cell_type": "code",
   "execution_count": 26,
   "metadata": {},
   "outputs": [],
   "source": [
    "\n",
    "def load_memfile(path):\n",
    "    buf = open(path, 'rb').read()\n",
    "    arr = numpy.frombuffer(buf, dtype=numpy.uint8)\n",
    "    return arr\n",
    "\n",
    "def test_load_memfile():\n",
    "    arr = load_memfile('x264.core.dat')\n",
    "    \n",
    "    # dumped by compr tool\n",
    "    line0 = [0x21,0x00,0x00,0x00,0x00,0x00,0x00,0x00,0x00,0x00,0xfd,0xf7,0xff,0x7f,\n",
    "             0x00,0x00,0x10,0x00,0x00,0x00,0x00,0x00,0x00,0x00,0xff,0xfb,0xeb,0xbf,\n",
    "             0x00,0x00,0x00,0x00,0x06,0x00,0x00,0x00,0x00,0x00,0x00,0x00,0x00,0x10,\n",
    "             0x00,0x00,0x00,0x00,0x00,0x00,0x11,0x00,0x00,0x00,0x00,0x00,0x00,0x00,\n",
    "             0x64,0x00,0x00,0x00,0x00,0x00,0x00,0x00,]\n",
    "\n",
    "    \n",
    "    line9 = [0x18,0x8e,0x03,0x45,0x0e,0x20,0x8d,0x04,0x45,0x0e,0x28,0x8c,0x05,0x48,\n",
    "             0x0e,0x30,0x86,0x06,0x48,0x0e,0x38,0x83,0x07,0x47,0x0e,0x40,0x6e,0x0e,\n",
    "             0x38,0x41,0x0e,0x30,0x41,0x0e,0x28,0x42,0x0e,0x20,0x42,0x0e,0x18,0x42,\n",
    "             0x0e,0x10,0x42,0x0e,0x08,0x00,0x10,0x00,0x00,0x00,0x7c,0x70,0x00,0x00,\n",
    "             0x88,0xa1,0xfe,0xff,0x05,0x00,0x00,0x00,]\n",
    "    \n",
    "    cachelines = arr.reshape((-1,64))\n",
    "    c_line9 = cachelines[9,:]\n",
    "\n",
    "    numpy.testing.assert_allclose(c_line9, line9)\n",
    "    \n",
    "\n",
    "test_load_memfile()\n",
    "\n"
   ]
  },
  {
   "cell_type": "code",
   "execution_count": 42,
   "metadata": {},
   "outputs": [
    {
     "data": {
      "text/plain": [
       "(43885648,)"
      ]
     },
     "execution_count": 42,
     "metadata": {},
     "output_type": "execute_result"
    }
   ],
   "source": []
  },
  {
   "cell_type": "code",
   "execution_count": 47,
   "metadata": {},
   "outputs": [
    {
     "data": {
      "text/plain": [
       "43885648"
      ]
     },
     "execution_count": 47,
     "metadata": {},
     "output_type": "execute_result"
    }
   ],
   "source": [
    "arr.shape[0]//4"
   ]
  },
  {
   "cell_type": "code",
   "execution_count": 65,
   "metadata": {},
   "outputs": [
    {
     "data": {
      "text/html": [
       "<div>\n",
       "<style scoped>\n",
       "    .dataframe tbody tr th:only-of-type {\n",
       "        vertical-align: middle;\n",
       "    }\n",
       "\n",
       "    .dataframe tbody tr th {\n",
       "        vertical-align: top;\n",
       "    }\n",
       "\n",
       "    .dataframe thead th {\n",
       "        text-align: right;\n",
       "    }\n",
       "</style>\n",
       "<table border=\"1\" class=\"dataframe\">\n",
       "  <thead>\n",
       "    <tr style=\"text-align: right;\">\n",
       "      <th></th>\n",
       "      <th>dataset</th>\n",
       "      <th>method</th>\n",
       "      <th>cr</th>\n",
       "    </tr>\n",
       "  </thead>\n",
       "  <tbody>\n",
       "    <tr>\n",
       "      <th>0</th>\n",
       "      <td>bwaves</td>\n",
       "      <td>SC2</td>\n",
       "      <td>1.64012</td>\n",
       "    </tr>\n",
       "    <tr>\n",
       "      <th>1</th>\n",
       "      <td>bwaves</td>\n",
       "      <td>0block</td>\n",
       "      <td>1.00055</td>\n",
       "    </tr>\n",
       "    <tr>\n",
       "      <th>2</th>\n",
       "      <td>bwaves</td>\n",
       "      <td>ZeroPoint</td>\n",
       "      <td>1.64021</td>\n",
       "    </tr>\n",
       "  </tbody>\n",
       "</table>\n",
       "</div>"
      ],
      "text/plain": [
       "  dataset     method       cr\n",
       "0  bwaves        SC2  1.64012\n",
       "1  bwaves     0block  1.00055\n",
       "2  bwaves  ZeroPoint  1.64021"
      ]
     },
     "execution_count": 65,
     "metadata": {},
     "output_type": "execute_result"
    }
   ],
   "source": [
    "# grep -H -B 2 'CR:' baselines/zeropoint/*.results | grep -v 'completed\\|--'\n",
    "\n",
    "\n",
    "def load_baselines():\n",
    "    df = pandas.read_csv('results.csv')\n",
    "    return df\n",
    "    \n",
    "    \n",
    "df = load_baselines()\n",
    "df.head(n=3)"
   ]
  },
  {
   "cell_type": "code",
   "execution_count": 66,
   "metadata": {},
   "outputs": [
    {
     "data": {
      "text/plain": [
       "method\n",
       "0block       AxesSubplot(0.125,0.125;0.775x0.755)\n",
       "1.31324      AxesSubplot(0.125,0.125;0.775x0.755)\n",
       "SC2          AxesSubplot(0.125,0.125;0.775x0.755)\n",
       "ZeroPoint    AxesSubplot(0.125,0.125;0.775x0.755)\n",
       "dtype: object"
      ]
     },
     "execution_count": 66,
     "metadata": {},
     "output_type": "execute_result"
    },
    {
     "data": {
      "image/png": "[encoded data removed]",
      "text/plain": [
       "<Figure size 432x288 with 1 Axes>"
      ]
     },
     "metadata": {
      "needs_background": "light"
     },
     "output_type": "display_data"
    },
    {
     "data": {
      "image/png": "[encoded data removed]",
      "text/plain": [
       "<Figure size 432x288 with 1 Axes>"
      ]
     },
     "metadata": {
      "needs_background": "light"
     },
     "output_type": "display_data"
    },
    {
     "data": {
      "image/png": "[encoded data removed]",
      "text/plain": [
       "<Figure size 432x288 with 1 Axes>"
      ]
     },
     "metadata": {
      "needs_background": "light"
     },
     "output_type": "display_data"
    },
    {
     "data": {
      "image/png": "[encoded data removed]",
      "text/plain": [
       "<Figure size 432x288 with 1 Axes>"
      ]
     },
     "metadata": {
      "needs_background": "light"
     },
     "output_type": "display_data"
    }
   ],
   "source": [
    "df.groupby('method').plot(kind='bar',y='cr',x='dataset')"
   ]
  },
  {
   "cell_type": "code",
   "execution_count": 32,
   "metadata": {},
   "outputs": [
    {
     "name": "stdout",
     "output_type": "stream",
     "text": [
      "LZ4 compressed x264.core.dat 1.5121638754156623\n"
     ]
    }
   ],
   "source": [
    "\n",
    "def try_lz4(path):\n",
    "    import lz4.frame\n",
    "    \n",
    "    uncompressed = open(path, 'rb').read()\n",
    "    \n",
    "    compressed = lz4.frame.compress(uncompressed)\n",
    "    ratio = len(uncompressed)/len(compressed)\n",
    "    print('LZ4 compressed', path, ratio)\n",
    "    \n",
    "    \n",
    "try_lz4('x264.core.dat')\n"
   ]
  },
  {
   "cell_type": "code",
   "execution_count": 33,
   "metadata": {},
   "outputs": [
    {
     "data": {
      "text/plain": [
       "(2742853, 64)"
      ]
     },
     "execution_count": 33,
     "metadata": {},
     "output_type": "execute_result"
    }
   ],
   "source": [
    "cachelines = arr.reshape((-1,64))\n",
    "\n",
    "cachelines.shape\n"
   ]
  },
  {
   "cell_type": "code",
   "execution_count": 53,
   "metadata": {},
   "outputs": [
    {
     "data": {
      "text/plain": [
       "7521405"
      ]
     },
     "execution_count": 53,
     "metadata": {},
     "output_type": "execute_result"
    }
   ],
   "source": [
    "dwords = cachelines.view(dtype=numpy.int32)\n",
    "dwords.shape\n",
    "\n",
    "n_zeros = dwords.shape[0]*dwords.shape[1] - numpy.count_nonzero(dwords)\n",
    "n_zeros"
   ]
  },
  {
   "cell_type": "code",
   "execution_count": 36,
   "metadata": {},
   "outputs": [
    {
     "data": {
      "text/plain": [
       "array([0x21, 0x0, 0x0, 0x0, 0x0, 0x0, 0x0, 0x0, 0x0, 0x0, 0xfd, 0xf7,\n",
       "       0xff, 0x7f, 0x0, 0x0], dtype=uint8)"
      ]
     },
     "execution_count": 36,
     "metadata": {},
     "output_type": "execute_result"
    }
   ],
   "source": [
    "dwords[0]"
   ]
  },
  {
   "cell_type": "code",
   "execution_count": null,
   "metadata": {},
   "outputs": [],
   "source": [
    "baselines/zeropoint/bwaves.results-18-SC2\n",
    "baselines/zeropoint/bwaves.results:20:CR: 1.64012\n",
    "baselines/zeropoint/bwaves.results-23-NULL\n",
    "Compression: 99% completed.results-24-\n",
    "baselines/zeropoint/bwaves.results:25:CR: 1.00055\n",
    "--\n",
    "baselines/zeropoint/bwaves.results-29-ZeroPoint's Hybrid Compression\n",
    "Compression: 99% completed.results-30-\n",
    "baselines/zeropoint/bwaves.results:31:CR: 1.64021\n",
    "--\n",
    "baselines/zeropoint/mcf.results-18-SC2\n",
    "Compression: 98% completedsults-19-\n",
    "baselines/zeropoint/mcf.results:20:CR: 3.06867\n",
    "--\n",
    "baselines/zeropoint/mcf.results-23-NULL\n",
    "Compression: 98% completedsults-24-\n",
    "baselines/zeropoint/mcf.results:25:CR: 1.00046\n",
    "--\n",
    "baselines/zeropoint/mcf.results-29-ZeroPoint's Hybrid Compression\n",
    "Compression: 98% completedsults-30-\n",
    "baselines/zeropoint/mcf.results:31:CR: 3.06894\n",
    "--\n",
    "baselines/zeropoint/namd.results-18-SC2\n",
    "Compression: 97% completedesults-19-\n",
    "baselines/zeropoint/namd.results:20:CR: 2.20796\n",
    "--\n",
    "baselines/zeropoint/namd.results-23-NULL\n",
    "Compression: 97% completedesults-24-\n",
    "baselines/zeropoint/namd.results:25:CR: 1.1985\n",
    "--\n",
    "baselines/zeropoint/namd.results-29-ZeroPoint's Hybrid Compression\n",
    "Compression: 97% completedesults-30-\n",
    "baselines/zeropoint/namd.results:31:CR: 2.28635\n",
    "--\n",
    "baselines/zeropoint/x264.results-18-SC2\n",
    "Compression: 95% completedesults-19-\n",
    "baselines/zeropoint/x264.results:20:CR: 1.298\n",
    "--\n",
    "baselines/zeropoint/x264.results-23-NULL\n",
    "Compression: 95% completedesults-24-\n",
    "baselines/zeropoint/x264.results:25:CR: 1.16696\n",
    "--\n",
    "baselines/zeropoint/x264.results-29-ZeroPoint's Hybrid Compression\n",
    "Compression: 95% completedesults-30-\n",
    "baselines/zeropoint/x264.results:31:CR: 1.31324\n",
    "--\n",
    "baselines/zeropoint/xz.results-18-SC2\n",
    "Compression: 99% completedults-19-\n",
    "baselines/zeropoint/xz.results:20:CR: 2.002\n",
    "--\n",
    "baselines/zeropoint/xz.results-23-NULL\n",
    "Compression: 99% completedults-24-\n",
    "baselines/zeropoint/xz.results:25:CR: 1.5731\n",
    "--\n",
    "baselines/zeropoint/xz.results-29-ZeroPoint's Hybrid Compression\n",
    "Compression: 99% completedults-30-\n",
    "baselines/zeropoint/xz.results:31:CR: 2.0487"
   ]
  }
 ],
 "metadata": {
  "kernelspec": {
   "display_name": "Python 3",
   "language": "python",
   "name": "python3"
  },
  "language_info": {
   "codemirror_mode": {
    "name": "ipython",
    "version": 3
   },
   "file_extension": ".py",
   "mimetype": "text/x-python",
   "name": "python",
   "nbconvert_exporter": "python",
   "pygments_lexer": "ipython3",
   "version": "3.7.3"
  }
 },
 "nbformat": 4,
 "nbformat_minor": 2
}
